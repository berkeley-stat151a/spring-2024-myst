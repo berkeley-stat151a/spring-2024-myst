{
 "cells": [
  {
   "cell_type": "code",
   "execution_count": 1,
   "id": "98b721a1",
   "metadata": {},
   "outputs": [],
   "source": [
    "import datetime\n",
    "import calendar\n",
    "import numpy as np\n",
    "import yaml"
   ]
  },
  {
   "cell_type": "markdown",
   "id": "80dc0f0b",
   "metadata": {},
   "source": [
    "https://classes.berkeley.edu/search/class/STAT151A?f%5B0%5D=im_field_term_name%3A2885&retain-filters=1"
   ]
  },
  {
   "cell_type": "code",
   "execution_count": 2,
   "id": "be4aa08a",
   "metadata": {},
   "outputs": [],
   "source": [
    "# 0 is Monday\n",
    "lecture_days = [1, 3] # Tu Th\n",
    "lab_days = [2] # W\n",
    "\n",
    "semester_start = datetime.date(2024, 1, 16)\n",
    "semester_end = datetime.date(2024, 4, 26)\n",
    "\n",
    "assert(semester_start < semester_end)\n",
    "\n",
    "\n",
    "holidays = [\n",
    "    datetime.date(2024, 1, 15),\n",
    "    datetime.date(2024, 2, 19),\n",
    "    datetime.date(2024, 3, 25),\n",
    "    datetime.date(2024, 3, 26),\n",
    "    datetime.date(2024, 3, 27),\n",
    "    datetime.date(2024, 3, 28),\n",
    "    datetime.date(2024, 3, 29)\n",
    "]\n",
    "\n",
    "\n",
    "# Count weeks since the Sunday before the start\n",
    "# print('Semester start', semester_start.weekday())\n",
    "first_sunday = \\\n",
    "    semester_start - \\\n",
    "    datetime.timedelta(days=semester_start.weekday() + 1)\n",
    "\n",
    "\n",
    "\n",
    "def GetWeekNum(date):\n",
    "    return int((d - first_sunday).days / 7)  + 1\n",
    "\n"
   ]
  },
  {
   "cell_type": "code",
   "execution_count": 3,
   "id": "4fbab9e5",
   "metadata": {},
   "outputs": [],
   "source": [
    "from copy import deepcopy\n",
    "\n",
    "def GetLectureItems(id):\n",
    "    return [{'type': 'Lecture', \n",
    "             'id': id, \n",
    "             'name': f'Lecture {id}', \n",
    "             'href': f'./Lectures/Lecture{id}.md' }]\n",
    "\n",
    "def GetLabItems(id):\n",
    "    return [{'type': 'Lab', \n",
    "             'id': id, \n",
    "             'name': f'Lab {id}', \n",
    "             'href': f'./Labs/Lab{id}.md' }]\n",
    "\n",
    "def GetDateDict(datename, items):\n",
    "    return { 'date': datename, 'items': deepcopy(items) }\n",
    "\n",
    "def GetWeekDict(weeknum, dates):\n",
    "    return { 'week': weeknum, 'days': dates }\n",
    "\n",
    "calendar = []\n"
   ]
  },
  {
   "cell_type": "code",
   "execution_count": 4,
   "id": "bd3f2ab4",
   "metadata": {},
   "outputs": [],
   "source": [
    "\n",
    "d = semester_start\n",
    "\n",
    "calendar = []\n",
    "current_week = 1\n",
    "week_dates = []\n",
    "\n",
    "lec_id = 1\n",
    "lab_id = 1\n",
    "\n",
    "assert(GetWeekNum(semester_start) == current_week)\n",
    "while d <= semester_end:\n",
    "    if GetWeekNum(d) > current_week:\n",
    "        # Save the last week's data and reset the dictionaries\n",
    "        calendar.append(GetWeekDict(current_week, week_dates))\n",
    "        week_dates = []\n",
    "        current_week = GetWeekNum(d)\n",
    "    \n",
    "    if not (d in holidays):\n",
    "        datename = d.strftime('%b %-d')\n",
    "        if d.weekday() in lecture_days:\n",
    "            week_dates.append(GetDateDict(datename, GetLectureItems(lec_id)))\n",
    "            lec_id += 1\n",
    "        if d.weekday() in lab_days:\n",
    "            week_dates.append(GetDateDict(datename, GetLabItems(lab_id)))\n",
    "            lab_id += 1\n",
    "    d = d + datetime.timedelta(days=1)\n",
    "\n",
    "with open(\"/home/rgiordan/Documents/git_repos/stat151A/schedule_template.yml\", \"w\") as f: \n",
    "    yaml.dump(calendar, f)\n"
   ]
  },
  {
   "cell_type": "code",
   "execution_count": 5,
   "id": "28b34e37",
   "metadata": {},
   "outputs": [],
   "source": [
    "#calendar"
   ]
  },
  {
   "cell_type": "code",
   "execution_count": 15,
   "id": "ac199f87",
   "metadata": {
    "scrolled": false
   },
   "outputs": [
    {
     "data": {
      "text/plain": [
       "{'week': 1,\n",
       " 'days': [{'date': 'Jan 16',\n",
       "   'items': [{'type': 'Lecture',\n",
       "     'id': 1,\n",
       "     'name': 'Lecture 1',\n",
       "     'href': './Lectures/Lecture1.md'}]},\n",
       "  {'date': 'Jan 17',\n",
       "   'items': [{'type': 'Lab',\n",
       "     'id': 1,\n",
       "     'name': 'Lab 1',\n",
       "     'href': './Labs/Lab1.md'}]},\n",
       "  {'date': 'Jan 18',\n",
       "   'items': [{'type': 'Lecture',\n",
       "     'id': 2,\n",
       "     'name': 'Lecture 2',\n",
       "     'href': './Lectures/Lecture2.md'}]}]}"
      ]
     },
     "execution_count": 15,
     "metadata": {},
     "output_type": "execute_result"
    }
   ],
   "source": [
    "#print(yaml.dump(calendar))\n",
    "calendar[0]"
   ]
  },
  {
   "cell_type": "code",
   "execution_count": 22,
   "id": "fe54cab7",
   "metadata": {},
   "outputs": [
    {
     "name": "stdout",
     "output_type": "stream",
     "text": [
      "- Week 1\n",
      "\t- Lecture 1\n",
      "\t- Lecture 2\n",
      "- Week 2\n",
      "\t- Lecture 3\n",
      "\t- Lecture 4\n",
      "- Week 3\n",
      "\t- Lecture 5\n",
      "\t- Lecture 6\n",
      "- Week 4\n",
      "\t- Lecture 7\n",
      "\t- Lecture 8\n",
      "- Week 5\n",
      "\t- Lecture 9\n",
      "\t- Lecture 10\n",
      "- Week 6\n",
      "\t- Lecture 11\n",
      "\t- Lecture 12\n",
      "- Week 7\n",
      "\t- Lecture 13\n",
      "\t- Lecture 14\n",
      "- Week 8\n",
      "\t- Lecture 15\n",
      "\t- Lecture 16\n",
      "- Week 9\n",
      "\t- Lecture 17\n",
      "\t- Lecture 18\n",
      "- Week 10\n",
      "\t- Lecture 19\n",
      "\t- Lecture 20\n",
      "- Week 11\n",
      "- Week 12\n",
      "\t- Lecture 21\n",
      "\t- Lecture 22\n",
      "- Week 13\n",
      "\t- Lecture 23\n",
      "\t- Lecture 24\n",
      "- Week 14\n",
      "\t- Lecture 25\n",
      "\t- Lecture 26\n"
     ]
    }
   ],
   "source": [
    "weeks = [ c['week'] for c in calendar ]\n",
    "for c in calendar:\n",
    "    print(f'- Week {c[\"week\"]}')\n",
    "    for day in c[\"days\"]:\n",
    "        #print(day)\n",
    "        for item in day['items']:\n",
    "            if item['type'] == 'Lecture':\n",
    "                print(f'\\t- {item[\"name\"]}')\n"
   ]
  },
  {
   "cell_type": "code",
   "execution_count": null,
   "id": "6a2a8598",
   "metadata": {},
   "outputs": [],
   "source": []
  }
 ],
 "metadata": {
  "kernelspec": {
   "display_name": "Python 3 (ipykernel)",
   "language": "python",
   "name": "python3"
  },
  "language_info": {
   "codemirror_mode": {
    "name": "ipython",
    "version": 3
   },
   "file_extension": ".py",
   "mimetype": "text/x-python",
   "name": "python",
   "nbconvert_exporter": "python",
   "pygments_lexer": "ipython3",
   "version": "3.10.12"
  }
 },
 "nbformat": 4,
 "nbformat_minor": 5
}
