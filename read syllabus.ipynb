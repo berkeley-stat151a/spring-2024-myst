{
 "cells": [
  {
   "cell_type": "code",
   "execution_count": 1,
   "id": "98b721a1",
   "metadata": {},
   "outputs": [],
   "source": [
    "import datetime\n",
    "import calendar\n",
    "import numpy as np\n",
    "import os\n",
    "import yaml\n",
    "\n",
    "git_repo = '/home/rgiordan/Documents/git_repos/stat151a-spring-2024'"
   ]
  },
  {
   "cell_type": "markdown",
   "id": "80dc0f0b",
   "metadata": {},
   "source": [
    "https://classes.berkeley.edu/search/class/STAT151A?f%5B0%5D=im_field_term_name%3A2885&retain-filters=1"
   ]
  },
  {
   "cell_type": "code",
   "execution_count": 14,
   "id": "bd3f2ab4",
   "metadata": {},
   "outputs": [
    {
     "name": "stdout",
     "output_type": "stream",
     "text": [
      "{'Lecture': {'title': 'Permutation testing'}, 'Lab': {'title': 'CV'}}\n"
     ]
    }
   ],
   "source": [
    "\n",
    "with open(os.path.join(git_repo, 'syllabus.yml'), 'r') as f: \n",
    "    syllabus = yaml.safe_load(f)\n",
    "\n",
    "print(syllabus)"
   ]
  },
  {
   "cell_type": "code",
   "execution_count": 9,
   "id": "28b34e37",
   "metadata": {},
   "outputs": [
    {
     "data": {
      "text/plain": [
       "<generator object load_all at 0x7fb83221d230>"
      ]
     },
     "execution_count": 9,
     "metadata": {},
     "output_type": "execute_result"
    }
   ],
   "source": [
    "syllabus"
   ]
  },
  {
   "cell_type": "code",
   "execution_count": 15,
   "id": "ac199f87",
   "metadata": {
    "scrolled": false
   },
   "outputs": [
    {
     "data": {
      "text/plain": [
       "{'week': 1,\n",
       " 'days': [{'date': 'Jan 16',\n",
       "   'items': [{'type': 'Lecture',\n",
       "     'id': 1,\n",
       "     'name': 'Lecture 1',\n",
       "     'href': './Lectures/Lecture1.md'}]},\n",
       "  {'date': 'Jan 17',\n",
       "   'items': [{'type': 'Lab',\n",
       "     'id': 1,\n",
       "     'name': 'Lab 1',\n",
       "     'href': './Labs/Lab1.md'}]},\n",
       "  {'date': 'Jan 18',\n",
       "   'items': [{'type': 'Lecture',\n",
       "     'id': 2,\n",
       "     'name': 'Lecture 2',\n",
       "     'href': './Lectures/Lecture2.md'}]}]}"
      ]
     },
     "execution_count": 15,
     "metadata": {},
     "output_type": "execute_result"
    }
   ],
   "source": [
    "#print(yaml.dump(calendar))\n",
    "calendar[0]"
   ]
  },
  {
   "cell_type": "code",
   "execution_count": 22,
   "id": "fe54cab7",
   "metadata": {},
   "outputs": [
    {
     "name": "stdout",
     "output_type": "stream",
     "text": [
      "- Week 1\n",
      "\t- Lecture 1\n",
      "\t- Lecture 2\n",
      "- Week 2\n",
      "\t- Lecture 3\n",
      "\t- Lecture 4\n",
      "- Week 3\n",
      "\t- Lecture 5\n",
      "\t- Lecture 6\n",
      "- Week 4\n",
      "\t- Lecture 7\n",
      "\t- Lecture 8\n",
      "- Week 5\n",
      "\t- Lecture 9\n",
      "\t- Lecture 10\n",
      "- Week 6\n",
      "\t- Lecture 11\n",
      "\t- Lecture 12\n",
      "- Week 7\n",
      "\t- Lecture 13\n",
      "\t- Lecture 14\n",
      "- Week 8\n",
      "\t- Lecture 15\n",
      "\t- Lecture 16\n",
      "- Week 9\n",
      "\t- Lecture 17\n",
      "\t- Lecture 18\n",
      "- Week 10\n",
      "\t- Lecture 19\n",
      "\t- Lecture 20\n",
      "- Week 11\n",
      "- Week 12\n",
      "\t- Lecture 21\n",
      "\t- Lecture 22\n",
      "- Week 13\n",
      "\t- Lecture 23\n",
      "\t- Lecture 24\n",
      "- Week 14\n",
      "\t- Lecture 25\n",
      "\t- Lecture 26\n"
     ]
    }
   ],
   "source": [
    "weeks = [ c['week'] for c in calendar ]\n",
    "for c in calendar:\n",
    "    print(f'- Week {c[\"week\"]}')\n",
    "    for day in c[\"days\"]:\n",
    "        #print(day)\n",
    "        for item in day['items']:\n",
    "            if item['type'] == 'Lecture':\n",
    "                print(f'\\t- {item[\"name\"]}')\n"
   ]
  },
  {
   "cell_type": "code",
   "execution_count": null,
   "id": "6a2a8598",
   "metadata": {},
   "outputs": [],
   "source": []
  }
 ],
 "metadata": {
  "kernelspec": {
   "display_name": "Python 3 (ipykernel)",
   "language": "python",
   "name": "python3"
  },
  "language_info": {
   "codemirror_mode": {
    "name": "ipython",
    "version": 3
   },
   "file_extension": ".py",
   "mimetype": "text/x-python",
   "name": "python",
   "nbconvert_exporter": "python",
   "pygments_lexer": "ipython3",
   "version": "3.10.12"
  }
 },
 "nbformat": 4,
 "nbformat_minor": 5
}
